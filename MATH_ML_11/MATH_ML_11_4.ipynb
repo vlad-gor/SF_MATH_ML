{
 "cells": [
  {
   "cell_type": "code",
   "execution_count": 2,
   "metadata": {},
   "outputs": [
    {
     "data": {
      "text/plain": [
       "(10299, 561)"
      ]
     },
     "execution_count": 2,
     "metadata": {},
     "output_type": "execute_result"
    }
   ],
   "source": [
    "# Меры качества кластеризации. Практика\n",
    "\n",
    "#4.1\n",
    "import numpy as np\n",
    "\n",
    "X_train = np.loadtxt(\"data/train.txt\")\n",
    "y_train = np.loadtxt(\"data/train_labels.txt\")\n",
    " \n",
    "X_test = np.loadtxt(\"data/test.txt\")\n",
    "y_test = np.loadtxt(\"data/test_labels.txt\")\n",
    "X = np.concatenate((X_train, X_test))\n",
    "y = np.concatenate((y_train, y_test))\n",
    "X.shape"
   ]
  },
  {
   "cell_type": "code",
   "execution_count": 3,
   "metadata": {},
   "outputs": [
    {
     "data": {
      "text/plain": [
       "6"
      ]
     },
     "execution_count": 3,
     "metadata": {},
     "output_type": "execute_result"
    }
   ],
   "source": [
    "#4.2\n",
    "len(np.unique(y))"
   ]
  },
  {
   "cell_type": "code",
   "execution_count": 6,
   "metadata": {},
   "outputs": [
    {
     "data": {
      "text/plain": [
       "0.21"
      ]
     },
     "execution_count": 6,
     "metadata": {},
     "output_type": "execute_result"
    }
   ],
   "source": [
    "# 4.3\n",
    "from sklearn.preprocessing import StandardScaler\n",
    "\n",
    "#определяем скейлер\n",
    "scaler = StandardScaler()\n",
    "#масштабируем данные\n",
    "X_scaled = scaler.fit_transform(X)\n",
    "#выводим нужное значение\n",
    "round(X_scaled[0][0],2)"
   ]
  },
  {
   "cell_type": "code",
   "execution_count": 11,
   "metadata": {},
   "outputs": [
    {
     "name": "stdout",
     "output_type": "stream",
     "text": [
      "2 0.3937324764077081\n",
      "3 0.31548375272734164\n",
      "4 0.15052911849826184\n",
      "5 0.12723671885995455\n",
      "6 0.11096892121098482\n",
      "7 0.08541910378666204\n",
      "8 0.07618332955957029\n",
      "9 0.07648837092046105\n",
      "2 7880.813903657111\n",
      "3 5034.4752572242\n",
      "4 3696.3381978005555\n",
      "5 3027.0761722557045\n",
      "6 2556.7735736855657\n",
      "7 2216.563937360621\n",
      "8 1974.9714963243528\n",
      "9 1790.9531728187399\n",
      "2 1.070744182238566\n",
      "3 1.786516465365282\n",
      "4 2.3409301040454653\n",
      "5 2.431375173184108\n",
      "6 2.367036374724895\n",
      "7 2.681979507531904\n",
      "8 2.6112259939773117\n",
      "9 2.5818882774756022\n"
     ]
    }
   ],
   "source": [
    "# 4.4 \n",
    "from sklearn.cluster import KMeans\n",
    "from sklearn import metrics\n",
    "\n",
    "#проходимся циклом по всем нужным нам значениям количества кластеров\n",
    "for i in range(2,10):\n",
    "\t# обучаем модель k-means с текущим количеством кластеров\n",
    "    km = KMeans(n_clusters = i , random_state = 42 ).fit(X_scaled)\n",
    "\t#предсказываем метки\n",
    "    y_pred = km.labels_\n",
    "\t#выводим результат для коэффициента силуэта\n",
    "    print (i, metrics.silhouette_score(X_scaled,  y_pred))\n",
    "for i in range(2,10):\n",
    "    km = KMeans(n_clusters = i , random_state = 42 ).fit(X_scaled)\n",
    "    y_pred= km.labels_\n",
    "    print (i, metrics.calinski_harabasz_score(X_scaled,y_pred))\n",
    "for i in range(2,10):\n",
    "    km = KMeans(n_clusters = i , random_state = 42 ).fit(X_scaled)\n",
    "    y_pred = km.labels_\n",
    "    print (i, metrics.davies_bouldin_score(X_scaled, y_pred))"
   ]
  },
  {
   "cell_type": "code",
   "execution_count": 8,
   "metadata": {},
   "outputs": [],
   "source": [
    "# 4.5\n",
    "\n",
    "#определяем модель k-means\n",
    "model= KMeans(n_clusters=6, init='random', random_state=42)\n",
    "#обучаем модель\n",
    "model.fit(X_scaled)\n",
    "#вычисляем значение однородности\n",
    "print(homogeneity_score(y, model.labels_))\n",
    "#вычисляем значение полноты\n",
    "print(completeness_score(y, model.labels_))\n",
    "#вычисляем значение скорректированного индекса Рэнда\n",
    "print(adjusted_rand_score(y, model.labels_))"
   ]
  },
  {
   "cell_type": "code",
   "execution_count": 9,
   "metadata": {},
   "outputs": [],
   "source": [
    "# 4.6\n",
    "\n",
    "#создаём таблицу сопряжённости\n",
    "ct = pd.crosstab(y, model.labels_)\n",
    "#определяем название активностей\n",
    "ct.index = ['ходьба', 'подъём', \n",
    "             'спуск', 'сидение', 'стояние', 'лежание']\n",
    "ct.columns = list(range(1,7))"
   ]
  },
  {
   "cell_type": "code",
   "execution_count": null,
   "metadata": {},
   "outputs": [],
   "source": [
    "# 4.7\n",
    "\n",
    "ctable = pd.crosstab(y, km.labels_)\n",
    "ctable.index = ['ходьба', 'подъём', \n",
    "             'спуск', 'сидение', 'стояние', 'лежание'\n",
    "ctable.columns = list(range(1,3))"
   ]
  },
  {
   "cell_type": "code",
   "execution_count": 10,
   "metadata": {},
   "outputs": [],
   "source": [
    "# 4.8\n",
    "\n",
    "metrics.homogeneity_score(y, km.labels_)"
   ]
  },
  {
   "cell_type": "code",
   "execution_count": null,
   "metadata": {},
   "outputs": [],
   "source": [
    "# 4.9\n",
    "\n",
    "ag = AgglomerativeClustering(n_clusters=6).fit(X_scaled)\n",
    "print(\"Completeness: %0.3f\" % metrics.completeness_score(y, ag.labels_))"
   ]
  }
 ],
 "metadata": {
  "kernelspec": {
   "display_name": "Python 3.10.4 64-bit",
   "language": "python",
   "name": "python3"
  },
  "language_info": {
   "codemirror_mode": {
    "name": "ipython",
    "version": 3
   },
   "file_extension": ".py",
   "mimetype": "text/x-python",
   "name": "python",
   "nbconvert_exporter": "python",
   "pygments_lexer": "ipython3",
   "version": "3.10.4"
  },
  "orig_nbformat": 4,
  "vscode": {
   "interpreter": {
    "hash": "916dbcbb3f70747c44a77c7bcd40155683ae19c65e1c03b4aa3499c5328201f1"
   }
  }
 },
 "nbformat": 4,
 "nbformat_minor": 2
}
