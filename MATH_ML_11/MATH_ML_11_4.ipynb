{
 "cells": [
  {
   "cell_type": "code",
   "execution_count": 1,
   "metadata": {},
   "outputs": [
    {
     "data": {
      "text/plain": [
       "(10299, 561)"
      ]
     },
     "execution_count": 1,
     "metadata": {},
     "output_type": "execute_result"
    }
   ],
   "source": [
    "# Меры качества кластеризации. Практика\n",
    "# MATH&ML-11. Кластеризация и техники понижения размерности. Часть II 4. Меры качества кластеризации. Практика\n",
    "\n",
    "#4.1\n",
    "import numpy as np\n",
    "\n",
    "X_train = np.loadtxt(\"data/train.txt\")\n",
    "y_train = np.loadtxt(\"data/train_labels.txt\")\n",
    " \n",
    "X_test = np.loadtxt(\"data/test.txt\")\n",
    "y_test = np.loadtxt(\"data/test_labels.txt\")\n",
    "X = np.concatenate((X_train, X_test))\n",
    "y = np.concatenate((y_train, y_test))\n",
    "X.shape"
   ]
  },
  {
   "cell_type": "code",
   "execution_count": 2,
   "metadata": {},
   "outputs": [
    {
     "data": {
      "text/plain": [
       "6"
      ]
     },
     "execution_count": 2,
     "metadata": {},
     "output_type": "execute_result"
    }
   ],
   "source": [
    "#4.2\n",
    "len(np.unique(y))"
   ]
  },
  {
   "cell_type": "code",
   "execution_count": 3,
   "metadata": {},
   "outputs": [
    {
     "data": {
      "text/plain": [
       "0.21"
      ]
     },
     "execution_count": 3,
     "metadata": {},
     "output_type": "execute_result"
    }
   ],
   "source": [
    "# 4.3\n",
    "from sklearn.preprocessing import StandardScaler\n",
    "\n",
    "#определяем скейлер\n",
    "scaler = StandardScaler()\n",
    "#масштабируем данные\n",
    "X_scaled = scaler.fit_transform(X)\n",
    "#выводим нужное значение\n",
    "round(X_scaled[0][0],2)"
   ]
  },
  {
   "cell_type": "code",
   "execution_count": 4,
   "metadata": {},
   "outputs": [
    {
     "name": "stdout",
     "output_type": "stream",
     "text": [
      "2 0.3937324764077081\n",
      "3 0.31548375272734164\n",
      "4 0.15052911849826184\n",
      "5 0.12723671885995455\n",
      "6 0.11096892121098482\n",
      "7 0.08541910378666204\n",
      "8 0.07618332955957029\n",
      "9 0.07648837092046105\n",
      "2 7880.813903657111\n",
      "3 5034.4752572242\n",
      "4 3696.3381978005555\n",
      "5 3027.0761722557045\n",
      "6 2556.7735736855657\n",
      "7 2216.563937360621\n",
      "8 1974.9714963243528\n",
      "9 1790.9531728187399\n",
      "2 1.070744182238566\n",
      "3 1.786516465365282\n",
      "4 2.3409301040454653\n",
      "5 2.431375173184108\n",
      "6 2.367036374724895\n",
      "7 2.681979507531904\n",
      "8 2.6112259939773117\n",
      "9 2.5818882774756022\n"
     ]
    }
   ],
   "source": [
    "# 4.4 \n",
    "from sklearn.cluster import KMeans\n",
    "from sklearn import metrics\n",
    "\n",
    "#проходимся циклом по всем нужным нам значениям количества кластеров\n",
    "for i in range(2,10):\n",
    "\t# обучаем модель k-means с текущим количеством кластеров\n",
    "    km = KMeans(n_clusters = i , random_state = 42 ).fit(X_scaled)\n",
    "\t#предсказываем метки\n",
    "    y_pred = km.labels_\n",
    "\t#выводим результат для коэффициента силуэта\n",
    "    print (i, metrics.silhouette_score(X_scaled,  y_pred))\n",
    "for i in range(2,10):\n",
    "    km = KMeans(n_clusters = i , random_state = 42 ).fit(X_scaled)\n",
    "    y_pred= km.labels_\n",
    "    print (i, metrics.calinski_harabasz_score(X_scaled,y_pred))\n",
    "for i in range(2,10):\n",
    "    km = KMeans(n_clusters = i , random_state = 42 ).fit(X_scaled)\n",
    "    y_pred = km.labels_\n",
    "    print (i, metrics.davies_bouldin_score(X_scaled, y_pred))"
   ]
  },
  {
   "cell_type": "code",
   "execution_count": 5,
   "metadata": {},
   "outputs": [
    {
     "name": "stdout",
     "output_type": "stream",
     "text": [
      "0.5404114294595578\n",
      "0.5809491951515007\n",
      "0.4196031125923396\n"
     ]
    }
   ],
   "source": [
    "# 4.5\n",
    "from sklearn.metrics import homogeneity_score, completeness_score, adjusted_rand_score\n",
    "\n",
    "#определяем модель k-means\n",
    "model= KMeans(n_clusters=6, init='random', random_state=42)\n",
    "#обучаем модель\n",
    "model.fit(X_scaled)\n",
    "#вычисляем значение однородности\n",
    "print(homogeneity_score(y, model.labels_))\n",
    "#вычисляем значение полноты\n",
    "print(completeness_score(y, model.labels_))\n",
    "#вычисляем значение скорректированного индекса Рэнда\n",
    "print(adjusted_rand_score(y, model.labels_))"
   ]
  },
  {
   "cell_type": "code",
   "execution_count": 6,
   "metadata": {},
   "outputs": [],
   "source": [
    "# 4.6\n",
    "import pandas as pd\n",
    "\n",
    "#создаём таблицу сопряжённости\n",
    "ct = pd.crosstab(y, model.labels_)\n",
    "#определяем название активностей\n",
    "ct.index = ['ходьба', 'подъём', \n",
    "             'спуск', 'сидение', 'стояние', 'лежание']\n",
    "ct.columns = list(range(1,7))"
   ]
  },
  {
   "cell_type": "code",
   "execution_count": 8,
   "metadata": {},
   "outputs": [
    {
     "data": {
      "text/html": [
       "<div>\n",
       "<style scoped>\n",
       "    .dataframe tbody tr th:only-of-type {\n",
       "        vertical-align: middle;\n",
       "    }\n",
       "\n",
       "    .dataframe tbody tr th {\n",
       "        vertical-align: top;\n",
       "    }\n",
       "\n",
       "    .dataframe thead th {\n",
       "        text-align: right;\n",
       "    }\n",
       "</style>\n",
       "<table border=\"1\" class=\"dataframe\">\n",
       "  <thead>\n",
       "    <tr style=\"text-align: right;\">\n",
       "      <th></th>\n",
       "      <th>1</th>\n",
       "      <th>2</th>\n",
       "      <th>3</th>\n",
       "      <th>4</th>\n",
       "      <th>5</th>\n",
       "      <th>6</th>\n",
       "    </tr>\n",
       "  </thead>\n",
       "  <tbody>\n",
       "    <tr>\n",
       "      <th>ходьба</th>\n",
       "      <td>0</td>\n",
       "      <td>0</td>\n",
       "      <td>903</td>\n",
       "      <td>78</td>\n",
       "      <td>741</td>\n",
       "      <td>0</td>\n",
       "    </tr>\n",
       "    <tr>\n",
       "      <th>подъём</th>\n",
       "      <td>0</td>\n",
       "      <td>0</td>\n",
       "      <td>1242</td>\n",
       "      <td>5</td>\n",
       "      <td>295</td>\n",
       "      <td>2</td>\n",
       "    </tr>\n",
       "    <tr>\n",
       "      <th>спуск</th>\n",
       "      <td>0</td>\n",
       "      <td>0</td>\n",
       "      <td>321</td>\n",
       "      <td>196</td>\n",
       "      <td>889</td>\n",
       "      <td>0</td>\n",
       "    </tr>\n",
       "    <tr>\n",
       "      <th>сидение</th>\n",
       "      <td>91</td>\n",
       "      <td>1238</td>\n",
       "      <td>1</td>\n",
       "      <td>0</td>\n",
       "      <td>0</td>\n",
       "      <td>447</td>\n",
       "    </tr>\n",
       "    <tr>\n",
       "      <th>стояние</th>\n",
       "      <td>0</td>\n",
       "      <td>1346</td>\n",
       "      <td>0</td>\n",
       "      <td>0</td>\n",
       "      <td>0</td>\n",
       "      <td>560</td>\n",
       "    </tr>\n",
       "    <tr>\n",
       "      <th>лежание</th>\n",
       "      <td>1556</td>\n",
       "      <td>54</td>\n",
       "      <td>5</td>\n",
       "      <td>0</td>\n",
       "      <td>0</td>\n",
       "      <td>329</td>\n",
       "    </tr>\n",
       "  </tbody>\n",
       "</table>\n",
       "</div>"
      ],
      "text/plain": [
       "            1     2     3    4    5    6\n",
       "ходьба      0     0   903   78  741    0\n",
       "подъём      0     0  1242    5  295    2\n",
       "спуск       0     0   321  196  889    0\n",
       "сидение    91  1238     1    0    0  447\n",
       "стояние     0  1346     0    0    0  560\n",
       "лежание  1556    54     5    0    0  329"
      ]
     },
     "execution_count": 8,
     "metadata": {},
     "output_type": "execute_result"
    }
   ],
   "source": [
    "ct"
   ]
  },
  {
   "cell_type": "code",
   "execution_count": 12,
   "metadata": {},
   "outputs": [],
   "source": [
    "# 4.7\n",
    "#определяем модель k-means\n",
    "model= KMeans(n_clusters=2, init='random', random_state=42)\n",
    "\n",
    "model.fit(X_scaled)\n",
    "\n",
    "ctable = pd.crosstab(y, model.labels_)\n",
    "ctable.index = ['ходьба', 'подъём', \n",
    "             'спуск', 'сидение', 'стояние', 'лежание']\n",
    "ctable.columns = list(range(1,3))\n",
    "\n",
    "# кажется опечатка в эталонном ответе не закрыта скобка"
   ]
  },
  {
   "cell_type": "code",
   "execution_count": 13,
   "metadata": {},
   "outputs": [
    {
     "data": {
      "text/html": [
       "<div>\n",
       "<style scoped>\n",
       "    .dataframe tbody tr th:only-of-type {\n",
       "        vertical-align: middle;\n",
       "    }\n",
       "\n",
       "    .dataframe tbody tr th {\n",
       "        vertical-align: top;\n",
       "    }\n",
       "\n",
       "    .dataframe thead th {\n",
       "        text-align: right;\n",
       "    }\n",
       "</style>\n",
       "<table border=\"1\" class=\"dataframe\">\n",
       "  <thead>\n",
       "    <tr style=\"text-align: right;\">\n",
       "      <th></th>\n",
       "      <th>1</th>\n",
       "      <th>2</th>\n",
       "    </tr>\n",
       "  </thead>\n",
       "  <tbody>\n",
       "    <tr>\n",
       "      <th>ходьба</th>\n",
       "      <td>1722</td>\n",
       "      <td>0</td>\n",
       "    </tr>\n",
       "    <tr>\n",
       "      <th>подъём</th>\n",
       "      <td>1536</td>\n",
       "      <td>8</td>\n",
       "    </tr>\n",
       "    <tr>\n",
       "      <th>спуск</th>\n",
       "      <td>1406</td>\n",
       "      <td>0</td>\n",
       "    </tr>\n",
       "    <tr>\n",
       "      <th>сидение</th>\n",
       "      <td>3</td>\n",
       "      <td>1774</td>\n",
       "    </tr>\n",
       "    <tr>\n",
       "      <th>стояние</th>\n",
       "      <td>0</td>\n",
       "      <td>1906</td>\n",
       "    </tr>\n",
       "    <tr>\n",
       "      <th>лежание</th>\n",
       "      <td>12</td>\n",
       "      <td>1932</td>\n",
       "    </tr>\n",
       "  </tbody>\n",
       "</table>\n",
       "</div>"
      ],
      "text/plain": [
       "            1     2\n",
       "ходьба   1722     0\n",
       "подъём   1536     8\n",
       "спуск    1406     0\n",
       "сидение     3  1774\n",
       "стояние     0  1906\n",
       "лежание    12  1932"
      ]
     },
     "execution_count": 13,
     "metadata": {},
     "output_type": "execute_result"
    }
   ],
   "source": [
    "ctable"
   ]
  },
  {
   "cell_type": "code",
   "execution_count": 16,
   "metadata": {},
   "outputs": [
    {
     "data": {
      "text/plain": [
       "0.979530559699631"
      ]
     },
     "execution_count": 16,
     "metadata": {},
     "output_type": "execute_result"
    }
   ],
   "source": [
    "# 4.8\n",
    "#metrics.homogeneity_score(y, model.labels_)\n",
    "\n",
    "metrics.completeness_score(y, model.labels_)\n",
    "# опечатка в эталонном ответе другой параметр"
   ]
  },
  {
   "cell_type": "code",
   "execution_count": 18,
   "metadata": {},
   "outputs": [
    {
     "name": "stdout",
     "output_type": "stream",
     "text": [
      "Completeness: 1.000\n"
     ]
    }
   ],
   "source": [
    "# 4.10\n",
    "from sklearn.cluster import AgglomerativeClustering\n",
    "\n",
    "ag = AgglomerativeClustering(n_clusters=2).fit(X_scaled)\n",
    "\n",
    "print(\"Completeness: %0.3f\" % metrics.completeness_score(y, ag.labels_))\n",
    "\n",
    "# опечатка в эталонном ответе, нужно не 6 а 2 кластера"
   ]
  }
 ],
 "metadata": {
  "kernelspec": {
   "display_name": "Python 3.10.4 64-bit",
   "language": "python",
   "name": "python3"
  },
  "language_info": {
   "codemirror_mode": {
    "name": "ipython",
    "version": 3
   },
   "file_extension": ".py",
   "mimetype": "text/x-python",
   "name": "python",
   "nbconvert_exporter": "python",
   "pygments_lexer": "ipython3",
   "version": "3.10.4"
  },
  "orig_nbformat": 4,
  "vscode": {
   "interpreter": {
    "hash": "916dbcbb3f70747c44a77c7bcd40155683ae19c65e1c03b4aa3499c5328201f1"
   }
  }
 },
 "nbformat": 4,
 "nbformat_minor": 2
}
